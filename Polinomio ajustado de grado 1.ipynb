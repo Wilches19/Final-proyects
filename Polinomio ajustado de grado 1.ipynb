{
 "cells": [
  {
   "cell_type": "markdown",
   "id": "f32b1b06",
   "metadata": {},
   "source": [
    "# Proyecciones de la forma Ax+B (Polinomio ajustado de grado 1)"
   ]
  },
  {
   "cell_type": "code",
   "execution_count": 1,
   "id": "249039f1",
   "metadata": {},
   "outputs": [
    {
     "name": "stdout",
     "output_type": "stream",
     "text": [
      "Ingrese la cantidad de datos que desea ingresar: 10\n",
      "Ingrese el valor 1: 1\n",
      "Ingrese el valor 2: 2\n",
      "Ingrese el valor 3: 3\n",
      "Ingrese el valor 4: 4\n",
      "Ingrese el valor 5: 5\n",
      "Ingrese el valor 6: 6\n",
      "Ingrese el valor 7: 7\n",
      "Ingrese el valor 8: 8\n",
      "Ingrese el valor 9: 9\n",
      "Ingrese el valor 10: 10\n",
      "Valores ingresados: [1.0, 2.0, 3.0, 4.0, 5.0, 6.0, 7.0, 8.0, 9.0, 10.0]\n",
      "Coeficientes del polinomio de grado 1:\n",
      "Ordenada al origen: 1.1102230246251565e-15\n",
      "Pendiente: 1.0\n",
      "Ingresa el valor inicial para la proyección: 0\n",
      "Ingresa el valor final para la proyección: 10\n",
      "Para x = 0, la proyección es: 0.0000\n",
      "Para x = 1, la proyección es: 1.0000\n",
      "Para x = 2, la proyección es: 2.0000\n",
      "Para x = 3, la proyección es: 3.0000\n",
      "Para x = 4, la proyección es: 4.0000\n",
      "Para x = 5, la proyección es: 5.0000\n",
      "Para x = 6, la proyección es: 6.0000\n",
      "Para x = 7, la proyección es: 7.0000\n",
      "Para x = 8, la proyección es: 8.0000\n",
      "Para x = 9, la proyección es: 9.0000\n",
      "Para x = 10, la proyección es: 10.0000\n",
      "Ingresa el nombre del eje X: Pizza\n",
      "Ingresa el nombre del eje Y: Queso\n"
     ]
    },
    {
     "data": {
      "image/png": "[encoded data removed]",
      "text/plain": [
       "<Figure size 640x480 with 1 Axes>"
      ]
     },
     "metadata": {},
     "output_type": "display_data"
    }
   ],
   "source": [
    "import numpy as np\n",
    "import matplotlib.pyplot as plt\n",
    "\n",
    "def evaluar_polinomio(x, coeficientes):\n",
    "    \"\"\"\n",
    "    Evalúa el polinomio representado por los coeficientes en el valor x.\n",
    "\n",
    "    Parámetros:\n",
    "    - x: Valor a evaluar en el polinomio.\n",
    "    - coeficientes: Coeficientes del polinomio en orden descendente de grado.\n",
    "\n",
    "    Retorna:\n",
    "    El resultado de evaluar el polinomio en el valor x.\n",
    "    \"\"\"\n",
    "    resultado = sum(coef * (x**i) for i, coef in enumerate(coeficientes))\n",
    "    return resultado\n",
    "\n",
    "# Solicitar al usuario que ingrese la cantidad de datos\n",
    "num_datos = int(input(\"Ingrese la cantidad de datos que desea ingresar: \"))\n",
    "\n",
    "# Lista para almacenar los valores ingresados\n",
    "valores_ingresados = []\n",
    "\n",
    "# Solicitar al usuario que ingrese los valores uno por uno\n",
    "for i in range(1, num_datos + 1):\n",
    "    valor = float(input(f\"Ingrese el valor {i}: \"))\n",
    "    valores_ingresados.append(valor)\n",
    "\n",
    "print(\"Valores ingresados:\", valores_ingresados)\n",
    "\n",
    "# Matriz A con polinomio de grado 1\n",
    "A = np.column_stack((np.ones(num_datos), np.arange(1, num_datos+1)))\n",
    "\n",
    "# Convertir la lista de valores en una matriz NumPy de una columna VECTOR Y\n",
    "y = np.array(valores_ingresados).reshape(-1, 1)\n",
    "\n",
    "# Calcular los coeficientes del ajuste lineal (grado 1)\n",
    "coeficientes = np.linalg.inv(A.T @ A) @ A.T @ y\n",
    "\n",
    "# Imprimir los coeficientes del polinomio de grado 1\n",
    "print(\"Coeficientes del polinomio de grado 1:\")\n",
    "print(\"Ordenada al origen:\", coeficientes[0][0])\n",
    "print(\"Pendiente:\", coeficientes[1][0])\n",
    "\n",
    "# Obtener los valores de inicio y fin para la proyección desde el usuario\n",
    "x_inicio = int(input(\"Ingresa el valor inicial para la proyección: \"))\n",
    "x_fin = int(input(\"Ingresa el valor final para la proyección: \"))\n",
    "\n",
    "# Generar valores de x para proyección\n",
    "x_proyeccion = np.arange(x_inicio, x_fin + 1)\n",
    "\n",
    "# Calcular las proyecciones usando el polinomio ajustado\n",
    "y_proyeccion = [evaluar_polinomio(x, coeficientes.flatten()) for x in x_proyeccion]\n",
    "\n",
    "# Imprimir las proyecciones\n",
    "for x, y in zip(x_proyeccion, y_proyeccion):\n",
    "    print(f\"Para x = {x}, la proyección es: {y:.4f}\")\n",
    "\n",
    "# Generar datos para el gráfico\n",
    "x_datos = np.arange(1, num_datos+1)\n",
    "y_datos = np.array(valores_ingresados)\n",
    "\n",
    "# Generar datos para el polinomio ajustado\n",
    "y_polinomio = [evaluar_polinomio(x, coeficientes.flatten()) for x in x_datos]\n",
    "\n",
    "# Solicitar al usuario que nombre los ejes del gráfico\n",
    "eje_x = input(\"Ingresa el nombre del eje X: \")\n",
    "eje_y = input(\"Ingresa el nombre del eje Y: \")\n",
    "\n",
    "# Plotear los datos y el polinomio ajustado\n",
    "plt.scatter(x_datos, y_datos, label='Datos')\n",
    "plt.plot(x_datos, y_polinomio, label='Polinomio ajustado (grado 1)', color='red')\n",
    "plt.xlabel(eje_x)\n",
    "plt.ylabel(eje_y)\n",
    "plt.legend()\n",
    "plt.show()"
   ]
  },
  {
   "cell_type": "code",
   "execution_count": null,
   "id": "49ec544c",
   "metadata": {},
   "outputs": [],
   "source": []
  }
 ],
 "metadata": {
  "kernelspec": {
   "display_name": "Python 3 (ipykernel)",
   "language": "python",
   "name": "python3"
  },
  "language_info": {
   "codemirror_mode": {
    "name": "ipython",
    "version": 3
   },
   "file_extension": ".py",
   "mimetype": "text/x-python",
   "name": "python",
   "nbconvert_exporter": "python",
   "pygments_lexer": "ipython3",
   "version": "3.11.5"
  }
 },
 "nbformat": 4,
 "nbformat_minor": 5
}
